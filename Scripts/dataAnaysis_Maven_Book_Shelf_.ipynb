{
 "cells": [
  {
   "cell_type": "code",
   "execution_count": 13,
   "id": "0421bdda",
   "metadata": {},
   "outputs": [
    {
     "data": {
      "text/html": [
       "<div>\n",
       "<style scoped>\n",
       "    .dataframe tbody tr th:only-of-type {\n",
       "        vertical-align: middle;\n",
       "    }\n",
       "\n",
       "    .dataframe tbody tr th {\n",
       "        vertical-align: top;\n",
       "    }\n",
       "\n",
       "    .dataframe thead th {\n",
       "        text-align: right;\n",
       "    }\n",
       "</style>\n",
       "<table border=\"1\" class=\"dataframe\">\n",
       "  <thead>\n",
       "    <tr style=\"text-align: right;\">\n",
       "      <th></th>\n",
       "      <th>work_id</th>\n",
       "      <th>isbn</th>\n",
       "      <th>isbn13</th>\n",
       "      <th>original_title</th>\n",
       "      <th>author</th>\n",
       "      <th>original_publication_year</th>\n",
       "      <th>num_pages</th>\n",
       "      <th>description</th>\n",
       "      <th>genres</th>\n",
       "      <th>image_url</th>\n",
       "      <th>reviews_count</th>\n",
       "      <th>text_reviews_count</th>\n",
       "      <th>5_star_ratings</th>\n",
       "      <th>4_star_ratings</th>\n",
       "      <th>3_star_ratings</th>\n",
       "      <th>2_star_ratings</th>\n",
       "      <th>1_star_ratings</th>\n",
       "      <th>ratings_count</th>\n",
       "      <th>avg_rating</th>\n",
       "      <th>similar_books</th>\n",
       "    </tr>\n",
       "  </thead>\n",
       "  <tbody>\n",
       "    <tr>\n",
       "      <th>0</th>\n",
       "      <td>2288775</td>\n",
       "      <td>1579126294</td>\n",
       "      <td>9.781579e+12</td>\n",
       "      <td>A Murder is Announced</td>\n",
       "      <td>Agatha Christie</td>\n",
       "      <td>1950.0</td>\n",
       "      <td>288.0</td>\n",
       "      <td>Villagers expect a fun game after a Gazette an...</td>\n",
       "      <td>mystery, thriller, crime, fiction, history, hi...</td>\n",
       "      <td>https://s.gr-assets.com/assets/nophoto/book/11...</td>\n",
       "      <td>49665</td>\n",
       "      <td>1281</td>\n",
       "      <td>8968</td>\n",
       "      <td>13357</td>\n",
       "      <td>7822</td>\n",
       "      <td>987</td>\n",
       "      <td>132</td>\n",
       "      <td>31266</td>\n",
       "      <td>4.0</td>\n",
       "      <td>341789</td>\n",
       "    </tr>\n",
       "    <tr>\n",
       "      <th>1</th>\n",
       "      <td>1602338</td>\n",
       "      <td>039333807X</td>\n",
       "      <td>9.780393e+12</td>\n",
       "      <td>Survivor</td>\n",
       "      <td>Chuck Palahniuk</td>\n",
       "      <td>1999.0</td>\n",
       "      <td>289.0</td>\n",
       "      <td>\"A wild amphetamine ride through the vagaries ...</td>\n",
       "      <td>fiction, mystery, thriller, crime, history, hi...</td>\n",
       "      <td>https://s.gr-assets.com/assets/nophoto/book/11...</td>\n",
       "      <td>129309</td>\n",
       "      <td>3145</td>\n",
       "      <td>27301</td>\n",
       "      <td>35312</td>\n",
       "      <td>21119</td>\n",
       "      <td>4816</td>\n",
       "      <td>923</td>\n",
       "      <td>89471</td>\n",
       "      <td>3.9</td>\n",
       "      <td>2037794, 2667475, 93582</td>\n",
       "    </tr>\n",
       "    <tr>\n",
       "      <th>2</th>\n",
       "      <td>901952</td>\n",
       "      <td>0385732538</td>\n",
       "      <td>9.780386e+12</td>\n",
       "      <td>Messenger</td>\n",
       "      <td>Lois Lowry</td>\n",
       "      <td>2004.0</td>\n",
       "      <td>169.0</td>\n",
       "      <td>Messengeris the masterful third novel in the G...</td>\n",
       "      <td>young-adult, fiction, fantasy, paranormal, chi...</td>\n",
       "      <td>https://s.gr-assets.com/assets/nophoto/book/11...</td>\n",
       "      <td>173109</td>\n",
       "      <td>6863</td>\n",
       "      <td>25772</td>\n",
       "      <td>36621</td>\n",
       "      <td>23380</td>\n",
       "      <td>4595</td>\n",
       "      <td>752</td>\n",
       "      <td>91120</td>\n",
       "      <td>3.9</td>\n",
       "      <td>1234050, 25125386, 25576, 39678, 2501288, 1220...</td>\n",
       "    </tr>\n",
       "    <tr>\n",
       "      <th>3</th>\n",
       "      <td>24152432</td>\n",
       "      <td>1455525839</td>\n",
       "      <td>9.781456e+12</td>\n",
       "      <td>White Fire</td>\n",
       "      <td>Douglas Preston</td>\n",
       "      <td>2013.0</td>\n",
       "      <td>368.0</td>\n",
       "      <td>Special Agent Pendergast arrives at an exclusi...</td>\n",
       "      <td>mystery, thriller, crime, fiction, history, hi...</td>\n",
       "      <td>https://s.gr-assets.com/assets/nophoto/book/11...</td>\n",
       "      <td>28724</td>\n",
       "      <td>1828</td>\n",
       "      <td>5713</td>\n",
       "      <td>6946</td>\n",
       "      <td>3065</td>\n",
       "      <td>534</td>\n",
       "      <td>122</td>\n",
       "      <td>16380</td>\n",
       "      <td>4.1</td>\n",
       "      <td>21856179</td>\n",
       "    </tr>\n",
       "    <tr>\n",
       "      <th>4</th>\n",
       "      <td>1041558</td>\n",
       "      <td>0312353766</td>\n",
       "      <td>9.780312e+12</td>\n",
       "      <td>The Red Tent</td>\n",
       "      <td>Anita Diamant</td>\n",
       "      <td>1997.0</td>\n",
       "      <td>336.0</td>\n",
       "      <td>Her name is Dinah. In the Bible, her life is o...</td>\n",
       "      <td>fiction, history, historical fiction, biograph...</td>\n",
       "      <td>https://s.gr-assets.com/assets/nophoto/book/11...</td>\n",
       "      <td>613288</td>\n",
       "      <td>17408</td>\n",
       "      <td>208245</td>\n",
       "      <td>147492</td>\n",
       "      <td>68381</td>\n",
       "      <td>19757</td>\n",
       "      <td>9547</td>\n",
       "      <td>453422</td>\n",
       "      <td>4.2</td>\n",
       "      <td>3303291, 2643796, 859342, 15868401, 2060095, 7...</td>\n",
       "    </tr>\n",
       "  </tbody>\n",
       "</table>\n",
       "</div>"
      ],
      "text/plain": [
       "    work_id        isbn        isbn13         original_title           author  \\\n",
       "0   2288775  1579126294  9.781579e+12  A Murder is Announced  Agatha Christie   \n",
       "1   1602338  039333807X  9.780393e+12               Survivor  Chuck Palahniuk   \n",
       "2    901952  0385732538  9.780386e+12              Messenger       Lois Lowry   \n",
       "3  24152432  1455525839  9.781456e+12             White Fire  Douglas Preston   \n",
       "4   1041558  0312353766  9.780312e+12           The Red Tent    Anita Diamant   \n",
       "\n",
       "   original_publication_year  num_pages  \\\n",
       "0                     1950.0      288.0   \n",
       "1                     1999.0      289.0   \n",
       "2                     2004.0      169.0   \n",
       "3                     2013.0      368.0   \n",
       "4                     1997.0      336.0   \n",
       "\n",
       "                                         description  \\\n",
       "0  Villagers expect a fun game after a Gazette an...   \n",
       "1  \"A wild amphetamine ride through the vagaries ...   \n",
       "2  Messengeris the masterful third novel in the G...   \n",
       "3  Special Agent Pendergast arrives at an exclusi...   \n",
       "4  Her name is Dinah. In the Bible, her life is o...   \n",
       "\n",
       "                                              genres  \\\n",
       "0  mystery, thriller, crime, fiction, history, hi...   \n",
       "1  fiction, mystery, thriller, crime, history, hi...   \n",
       "2  young-adult, fiction, fantasy, paranormal, chi...   \n",
       "3  mystery, thriller, crime, fiction, history, hi...   \n",
       "4  fiction, history, historical fiction, biograph...   \n",
       "\n",
       "                                           image_url  reviews_count  \\\n",
       "0  https://s.gr-assets.com/assets/nophoto/book/11...          49665   \n",
       "1  https://s.gr-assets.com/assets/nophoto/book/11...         129309   \n",
       "2  https://s.gr-assets.com/assets/nophoto/book/11...         173109   \n",
       "3  https://s.gr-assets.com/assets/nophoto/book/11...          28724   \n",
       "4  https://s.gr-assets.com/assets/nophoto/book/11...         613288   \n",
       "\n",
       "   text_reviews_count  5_star_ratings  4_star_ratings  3_star_ratings  \\\n",
       "0                1281            8968           13357            7822   \n",
       "1                3145           27301           35312           21119   \n",
       "2                6863           25772           36621           23380   \n",
       "3                1828            5713            6946            3065   \n",
       "4               17408          208245          147492           68381   \n",
       "\n",
       "   2_star_ratings  1_star_ratings  ratings_count  avg_rating  \\\n",
       "0             987             132          31266         4.0   \n",
       "1            4816             923          89471         3.9   \n",
       "2            4595             752          91120         3.9   \n",
       "3             534             122          16380         4.1   \n",
       "4           19757            9547         453422         4.2   \n",
       "\n",
       "                                       similar_books  \n",
       "0                                             341789  \n",
       "1                            2037794, 2667475, 93582  \n",
       "2  1234050, 25125386, 25576, 39678, 2501288, 1220...  \n",
       "3                                           21856179  \n",
       "4  3303291, 2643796, 859342, 15868401, 2060095, 7...  "
      ]
     },
     "metadata": {},
     "output_type": "display_data"
    },
    {
     "data": {
      "text/html": [
       "<div>\n",
       "<style scoped>\n",
       "    .dataframe tbody tr th:only-of-type {\n",
       "        vertical-align: middle;\n",
       "    }\n",
       "\n",
       "    .dataframe tbody tr th {\n",
       "        vertical-align: top;\n",
       "    }\n",
       "\n",
       "    .dataframe thead th {\n",
       "        text-align: right;\n",
       "    }\n",
       "</style>\n",
       "<table border=\"1\" class=\"dataframe\">\n",
       "  <thead>\n",
       "    <tr style=\"text-align: right;\">\n",
       "      <th></th>\n",
       "      <th>review_id</th>\n",
       "      <th>user_id</th>\n",
       "      <th>work_id</th>\n",
       "      <th>started_at</th>\n",
       "      <th>read_at</th>\n",
       "      <th>date_added</th>\n",
       "      <th>rating</th>\n",
       "      <th>review_text</th>\n",
       "      <th>n_votes</th>\n",
       "      <th>n_comments</th>\n",
       "    </tr>\n",
       "  </thead>\n",
       "  <tbody>\n",
       "    <tr>\n",
       "      <th>0</th>\n",
       "      <td>bd1c54fef76398bec195c9de3a0ffab7</td>\n",
       "      <td>792500e85277fa7ada535de23e7eb4c3</td>\n",
       "      <td>21460517</td>\n",
       "      <td>2016-01-01 00:00:00.000</td>\n",
       "      <td>2016-01-01 00:00:00.000</td>\n",
       "      <td>2015-12-31 00:00:00.000</td>\n",
       "      <td>3.0</td>\n",
       "      <td>This was a quick, easy read that didn't excel ...</td>\n",
       "      <td>0</td>\n",
       "      <td>0</td>\n",
       "    </tr>\n",
       "    <tr>\n",
       "      <th>1</th>\n",
       "      <td>bf161e06d24a2ab2b10f738c5f6b540b</td>\n",
       "      <td>8c54eb29cfe45f819e6f9382cdf51d72</td>\n",
       "      <td>44058496</td>\n",
       "      <td>2016-01-01 00:00:00.000</td>\n",
       "      <td>2016-01-08 00:00:00.000</td>\n",
       "      <td>2016-01-01 00:00:00.000</td>\n",
       "      <td>3.0</td>\n",
       "      <td>I didn't find it as gripping as book 1 but sti...</td>\n",
       "      <td>0</td>\n",
       "      <td>0</td>\n",
       "    </tr>\n",
       "    <tr>\n",
       "      <th>2</th>\n",
       "      <td>dbebe525b57fa507983dfeab0738c9fa</td>\n",
       "      <td>1765bcc8fac303e5e41f7e353b06eaa3</td>\n",
       "      <td>13292985</td>\n",
       "      <td>2016-01-01 00:00:00.000</td>\n",
       "      <td>2016-11-18 00:00:00.000</td>\n",
       "      <td>2015-10-30 00:00:00.000</td>\n",
       "      <td>3.0</td>\n",
       "      <td>I did enjoy this, but it wasn't as gripping as...</td>\n",
       "      <td>0</td>\n",
       "      <td>0</td>\n",
       "    </tr>\n",
       "    <tr>\n",
       "      <th>3</th>\n",
       "      <td>5efc962ba8fb22610d1ae3caf768d409</td>\n",
       "      <td>0ec1f05faf6e7717ee92f2d24b6367af</td>\n",
       "      <td>1267673</td>\n",
       "      <td>2016-01-01 00:00:00.000</td>\n",
       "      <td>2016-01-09 00:00:00.000</td>\n",
       "      <td>2016-01-01 00:00:00.000</td>\n",
       "      <td>3.0</td>\n",
       "      <td>The book is not at all subtle as it goes about...</td>\n",
       "      <td>0</td>\n",
       "      <td>0</td>\n",
       "    </tr>\n",
       "    <tr>\n",
       "      <th>4</th>\n",
       "      <td>3e048a2bb64b3383e9345a6c19937eec</td>\n",
       "      <td>cd0bc11efafa1539b19bc4e8750f2489</td>\n",
       "      <td>11738454</td>\n",
       "      <td>2016-01-01 00:00:00.000</td>\n",
       "      <td>2016-01-01 00:00:00.000</td>\n",
       "      <td>2015-12-31 00:00:00.000</td>\n",
       "      <td>3.0</td>\n",
       "      <td>There are things that I thought worked and did...</td>\n",
       "      <td>0</td>\n",
       "      <td>0</td>\n",
       "    </tr>\n",
       "  </tbody>\n",
       "</table>\n",
       "</div>"
      ],
      "text/plain": [
       "                          review_id                           user_id  \\\n",
       "0  bd1c54fef76398bec195c9de3a0ffab7  792500e85277fa7ada535de23e7eb4c3   \n",
       "1  bf161e06d24a2ab2b10f738c5f6b540b  8c54eb29cfe45f819e6f9382cdf51d72   \n",
       "2  dbebe525b57fa507983dfeab0738c9fa  1765bcc8fac303e5e41f7e353b06eaa3   \n",
       "3  5efc962ba8fb22610d1ae3caf768d409  0ec1f05faf6e7717ee92f2d24b6367af   \n",
       "4  3e048a2bb64b3383e9345a6c19937eec  cd0bc11efafa1539b19bc4e8750f2489   \n",
       "\n",
       "    work_id               started_at                  read_at  \\\n",
       "0  21460517  2016-01-01 00:00:00.000  2016-01-01 00:00:00.000   \n",
       "1  44058496  2016-01-01 00:00:00.000  2016-01-08 00:00:00.000   \n",
       "2  13292985  2016-01-01 00:00:00.000  2016-11-18 00:00:00.000   \n",
       "3   1267673  2016-01-01 00:00:00.000  2016-01-09 00:00:00.000   \n",
       "4  11738454  2016-01-01 00:00:00.000  2016-01-01 00:00:00.000   \n",
       "\n",
       "                date_added  rating  \\\n",
       "0  2015-12-31 00:00:00.000     3.0   \n",
       "1  2016-01-01 00:00:00.000     3.0   \n",
       "2  2015-10-30 00:00:00.000     3.0   \n",
       "3  2016-01-01 00:00:00.000     3.0   \n",
       "4  2015-12-31 00:00:00.000     3.0   \n",
       "\n",
       "                                         review_text  n_votes  n_comments  \n",
       "0  This was a quick, easy read that didn't excel ...        0           0  \n",
       "1  I didn't find it as gripping as book 1 but sti...        0           0  \n",
       "2  I did enjoy this, but it wasn't as gripping as...        0           0  \n",
       "3  The book is not at all subtle as it goes about...        0           0  \n",
       "4  There are things that I thought worked and did...        0           0  "
      ]
     },
     "metadata": {},
     "output_type": "display_data"
    }
   ],
   "source": [
    "import pandas as pd\n",
    "import matplotlib.pyplot as plt\n",
    "import seaborn as sns\n",
    "import numpy as np\n",
    "from textblob import TextBlob\n",
    "import plotly.express as px\n",
    "import nbformat\n",
    "\n",
    "import os\n",
    "\n",
    "works_path = '../Clean_Data/cleaned_goodreads_works.csv'\n",
    "reviews_path = '../Clean_Data/cleaned_goodreads_reviews.csv'\n",
    "\n",
    "if not os.path.exists(works_path):\n",
    "\tprint(f\"File not found: {works_path}\")\n",
    "else:\n",
    "\tworks = pd.read_csv(works_path)  # Load the cleaned data\n",
    "\n",
    "if not os.path.exists(reviews_path):\n",
    "\tprint(f\"File not found: {reviews_path}\")\n",
    "else:\n",
    "\treviews = pd.read_csv(reviews_path)  # Load the cleaned reviews data\n",
    "\n",
    "# Display the first few rows of the works DataFrame\n",
    "display(works.head())\n",
    "# Display the first few rows of the reviews DataFrame\n",
    "display(reviews.head())\n",
    "\n",
    "\n"
   ]
  },
  {
   "cell_type": "code",
   "execution_count": 10,
   "id": "c0bc5529",
   "metadata": {},
   "outputs": [
    {
     "name": "stdout",
     "output_type": "stream",
     "text": [
      "Note: you may need to restart the kernel to use updated packages.\n"
     ]
    },
    {
     "name": "stderr",
     "output_type": "stream",
     "text": [
      "ERROR: Could not find a version that satisfies the requirement os (from versions: none)\n",
      "\n",
      "[notice] A new release of pip is available: 24.3.1 -> 25.1.1\n",
      "[notice] To update, run: python.exe -m pip install --upgrade pip\n",
      "ERROR: No matching distribution found for os\n"
     ]
    }
   ],
   "source": [
    "%pip install os"
   ]
  },
  {
   "cell_type": "code",
   "execution_count": 20,
   "id": "d465e0f0",
   "metadata": {},
   "outputs": [
    {
     "name": "stdout",
     "output_type": "stream",
     "text": [
      "            work_id        isbn13  original_publication_year    num_pages  \\\n",
      "count  8.875000e+03  8.875000e+03                8875.000000  8875.000000   \n",
      "mean   1.695933e+07  9.778714e+12                2004.691268   349.024113   \n",
      "std    1.483220e+07  1.389017e+11                  39.322362   134.821572   \n",
      "min    1.140000e+02  9.789381e+10                -430.000000     4.000000   \n",
      "25%    3.031048e+06  9.780346e+12                2007.000000   283.000000   \n",
      "50%    1.509372e+07  9.780554e+12                2011.000000   341.000000   \n",
      "75%    2.478126e+07  9.781420e+12                2014.000000   400.000000   \n",
      "max    5.168190e+07  9.789994e+12                2018.000000  2201.000000   \n",
      "\n",
      "       reviews_count  text_reviews_count  5_star_ratings  4_star_ratings  \\\n",
      "count   8.875000e+03         8875.000000    8.875000e+03    8.875000e+03   \n",
      "mean    7.612986e+04         2494.803606    1.834460e+04    1.516841e+04   \n",
      "std     2.397892e+05         6401.638042    8.516088e+04    5.385697e+04   \n",
      "min     4.590000e+02           36.000000    1.200000e+01    1.600000e+01   \n",
      "25%     7.963000e+03          328.000000    8.830000e+02    1.104000e+03   \n",
      "50%     1.974000e+04          786.000000    2.787000e+03    3.108000e+03   \n",
      "75%     5.410550e+04         2067.500000    9.732500e+03    9.759000e+03   \n",
      "max     6.057595e+06       156575.000000    3.131920e+06    1.519190e+06   \n",
      "\n",
      "       3_star_ratings  2_star_ratings  1_star_ratings  ratings_count  \\\n",
      "count     8875.000000     8875.000000     8875.000000   8.875000e+03   \n",
      "mean      8530.654310     2384.360225     1052.658141   4.548068e+04   \n",
      "std      29276.280206     9914.102319     6879.598325   1.766911e+05   \n",
      "min         11.000000        2.000000        0.000000   7.000000e+01   \n",
      "25%        695.000000      174.000000       54.000000   3.102000e+03   \n",
      "50%       1838.000000      450.000000      146.000000   8.676000e+03   \n",
      "75%       5445.000000     1317.500000      459.000000   2.732700e+04   \n",
      "max     808753.000000   444888.000000   463808.000000   5.066596e+06   \n",
      "\n",
      "        avg_rating     pub_year  \n",
      "count  8875.000000  8875.000000  \n",
      "mean      3.912248  1969.999887  \n",
      "std       0.275422     0.010615  \n",
      "min       2.400000  1969.000000  \n",
      "25%       3.700000  1970.000000  \n",
      "50%       3.900000  1970.000000  \n",
      "75%       4.100000  1970.000000  \n",
      "max       4.800000  1970.000000  \n",
      "genres\n",
      "romance, fiction                                                                395\n",
      "young-adult, romance, fiction                                                   272\n",
      "fantasy, paranormal, romance, fiction                                           234\n",
      "fantasy, paranormal, romance, fiction, mystery, thriller, crime                 222\n",
      "young-adult, fantasy, paranormal, romance, fiction, mystery, thriller, crime    206\n",
      "mystery, thriller, crime, fiction                                               188\n",
      "history, historical fiction, biography, romance, fiction                        185\n",
      "fantasy, paranormal, young-adult, romance, fiction                              148\n",
      "fiction, fantasy, paranormal                                                    132\n",
      "young-adult, fantasy, paranormal, romance, fiction                              128\n",
      "Name: count, dtype: int64\n"
     ]
    }
   ],
   "source": [
    "#descriptive statistics for works\n",
    "print(works.describe())\n",
    "print(works['genres'].value_counts().head(10))  # Most common genres\n",
    "\n",
    "\n"
   ]
  },
  {
   "cell_type": "code",
   "execution_count": 21,
   "id": "cffaad13",
   "metadata": {},
   "outputs": [
    {
     "data": {
      "image/png": "[encoded data removed]",
      "text/plain": [
       "<Figure size 1000x500 with 1 Axes>"
      ]
     },
     "metadata": {},
     "output_type": "display_data"
    }
   ],
   "source": [
    "\n",
    "# Visualize the distribution of average ratings\n",
    "plt.figure(figsize=(10, 5))\n",
    "sns.countplot(y='genres', data=works, order=works['genres'].value_counts().index[:10])\n",
    "plt.title('Top 10 Genres by Count')\n",
    "plt.show()\n",
    "\n"
   ]
  },
  {
   "cell_type": "code",
   "execution_count": 11,
   "id": "546cce00",
   "metadata": {},
   "outputs": [
    {
     "data": {
      "image/png": "[encoded data removed]",
      "text/plain": [
       "<Figure size 1000x500 with 1 Axes>"
      ]
     },
     "metadata": {},
     "output_type": "display_data"
    }
   ],
   "source": [
    "# Visualize the distribution of average ratings\n",
    "plt.figure(figsize=(10, 5))\n",
    "sns.histplot(works['avg_rating'], bins=30, kde=True)\n",
    "plt.title('Distribution of Average Ratings')\n",
    "plt.xlabel('Average Rating')\n",
    "plt.ylabel('Frequency')\n",
    "plt.show()"
   ]
  },
  {
   "cell_type": "code",
   "execution_count": 19,
   "id": "70af66a1",
   "metadata": {},
   "outputs": [],
   "source": [
    "works['pub_year'] = pd.to_datetime(works['original_publication_year'], errors='coerce').dt.year\n",
    "\n",
    "reviews['sentiment'] = reviews['review_text'].apply(lambda x: TextBlob(str(x)).polarity)"
   ]
  },
  {
   "cell_type": "code",
   "execution_count": 27,
   "id": "9f9aec7f",
   "metadata": {},
   "outputs": [
    {
     "name": "stdout",
     "output_type": "stream",
     "text": [
      "Recommended Fantasy Books:\n"
     ]
    },
    {
     "data": {
      "text/html": [
       "<div>\n",
       "<style scoped>\n",
       "    .dataframe tbody tr th:only-of-type {\n",
       "        vertical-align: middle;\n",
       "    }\n",
       "\n",
       "    .dataframe tbody tr th {\n",
       "        vertical-align: top;\n",
       "    }\n",
       "\n",
       "    .dataframe thead th {\n",
       "        text-align: right;\n",
       "    }\n",
       "</style>\n",
       "<table border=\"1\" class=\"dataframe\">\n",
       "  <thead>\n",
       "    <tr style=\"text-align: right;\">\n",
       "      <th></th>\n",
       "      <th>original_title</th>\n",
       "      <th>author</th>\n",
       "      <th>avg_rating</th>\n",
       "      <th>pub_year</th>\n",
       "    </tr>\n",
       "  </thead>\n",
       "  <tbody>\n",
       "    <tr>\n",
       "      <th>3934</th>\n",
       "      <td>The Way of Kings, Part 2</td>\n",
       "      <td>Brandon Sanderson</td>\n",
       "      <td>4.8</td>\n",
       "      <td>1970</td>\n",
       "    </tr>\n",
       "    <tr>\n",
       "      <th>6257</th>\n",
       "      <td>Words of Radiance</td>\n",
       "      <td>Brandon Sanderson</td>\n",
       "      <td>4.8</td>\n",
       "      <td>1970</td>\n",
       "    </tr>\n",
       "    <tr>\n",
       "      <th>1676</th>\n",
       "      <td>Oathbringer</td>\n",
       "      <td>Brandon Sanderson</td>\n",
       "      <td>4.7</td>\n",
       "      <td>1970</td>\n",
       "    </tr>\n",
       "    <tr>\n",
       "      <th>6261</th>\n",
       "      <td>Saga: Book One</td>\n",
       "      <td>Brian K. Vaughan</td>\n",
       "      <td>4.7</td>\n",
       "      <td>1970</td>\n",
       "    </tr>\n",
       "    <tr>\n",
       "      <th>7626</th>\n",
       "      <td>Exile</td>\n",
       "      <td>Shannon Messenger</td>\n",
       "      <td>4.6</td>\n",
       "      <td>1970</td>\n",
       "    </tr>\n",
       "  </tbody>\n",
       "</table>\n",
       "</div>"
      ],
      "text/plain": [
       "                original_title             author  avg_rating  pub_year\n",
       "3934  The Way of Kings, Part 2  Brandon Sanderson         4.8      1970\n",
       "6257         Words of Radiance  Brandon Sanderson         4.8      1970\n",
       "1676               Oathbringer  Brandon Sanderson         4.7      1970\n",
       "6261            Saga: Book One   Brian K. Vaughan         4.7      1970\n",
       "7626                     Exile  Shannon Messenger         4.6      1970"
      ]
     },
     "metadata": {},
     "output_type": "display_data"
    }
   ],
   "source": [
    "# Recommend top-rated books in a favorite genre\n",
    "def recommend_books(genre, n=5):\n",
    "    subset = works[works['genres'].str.contains(genre, case = False, na=False)]\n",
    "    top_books = subset.sort_values('avg_rating', ascending=False).head(n)\n",
    "    return top_books[['original_title', 'author', 'avg_rating', 'pub_year']]\n",
    "\n",
    "print(\"Recommended Fantasy Books:\")\n",
    "display(recommend_books('fantasy', 5))"
   ]
  },
  {
   "cell_type": "code",
   "execution_count": 31,
   "id": "2602b391",
   "metadata": {},
   "outputs": [
    {
     "ename": "IndexError",
     "evalue": "single positional indexer is out-of-bounds",
     "output_type": "error",
     "traceback": [
      "\u001b[31m---------------------------------------------------------------------------\u001b[39m",
      "\u001b[31mIndexError\u001b[39m                                Traceback (most recent call last)",
      "\u001b[36mCell\u001b[39m\u001b[36m \u001b[39m\u001b[32mIn[31]\u001b[39m\u001b[32m, line 3\u001b[39m\n\u001b[32m      1\u001b[39m \u001b[38;5;66;03m#Example: Show top reviews for a recommended book\u001b[39;00m\n\u001b[32m----> \u001b[39m\u001b[32m3\u001b[39m book_id = \u001b[43mworks\u001b[49m\u001b[43m[\u001b[49m\u001b[43mworks\u001b[49m\u001b[43m[\u001b[49m\u001b[33;43m'\u001b[39;49m\u001b[33;43moriginal_title\u001b[39;49m\u001b[33;43m'\u001b[39;49m\u001b[43m]\u001b[49m\u001b[43m \u001b[49m\u001b[43m==\u001b[49m\u001b[43m \u001b[49m\u001b[33;43m'\u001b[39;49m\u001b[33;43mking\u001b[39;49m\u001b[33;43m'\u001b[39;49m\u001b[43m]\u001b[49m\u001b[43m.\u001b[49m\u001b[43miloc\u001b[49m\u001b[43m[\u001b[49m\u001b[32;43m0\u001b[39;49m\u001b[43m]\u001b[49m[\u001b[33m'\u001b[39m\u001b[33mwork_id\u001b[39m\u001b[33m'\u001b[39m]  \u001b[38;5;66;03m# Replace 'Dune' with any title\\n\",\u001b[39;00m\n\u001b[32m      4\u001b[39m top_reviews = reviews[reviews[\u001b[33m'\u001b[39m\u001b[33mwork_id\u001b[39m\u001b[33m'\u001b[39m] == book_id].head(\u001b[32m3\u001b[39m)\n\u001b[32m      5\u001b[39m display(top_reviews[[\u001b[33m'\u001b[39m\u001b[33mreview_text\u001b[39m\u001b[33m'\u001b[39m]])\n",
      "\u001b[36mFile \u001b[39m\u001b[32mc:\\Users\\Darren Smith\\AppData\\Local\\Programs\\Python\\Python313\\Lib\\site-packages\\pandas\\core\\indexing.py:1191\u001b[39m, in \u001b[36m_LocationIndexer.__getitem__\u001b[39m\u001b[34m(self, key)\u001b[39m\n\u001b[32m   1189\u001b[39m maybe_callable = com.apply_if_callable(key, \u001b[38;5;28mself\u001b[39m.obj)\n\u001b[32m   1190\u001b[39m maybe_callable = \u001b[38;5;28mself\u001b[39m._check_deprecated_callable_usage(key, maybe_callable)\n\u001b[32m-> \u001b[39m\u001b[32m1191\u001b[39m \u001b[38;5;28;01mreturn\u001b[39;00m \u001b[38;5;28;43mself\u001b[39;49m\u001b[43m.\u001b[49m\u001b[43m_getitem_axis\u001b[49m\u001b[43m(\u001b[49m\u001b[43mmaybe_callable\u001b[49m\u001b[43m,\u001b[49m\u001b[43m \u001b[49m\u001b[43maxis\u001b[49m\u001b[43m=\u001b[49m\u001b[43maxis\u001b[49m\u001b[43m)\u001b[49m\n",
      "\u001b[36mFile \u001b[39m\u001b[32mc:\\Users\\Darren Smith\\AppData\\Local\\Programs\\Python\\Python313\\Lib\\site-packages\\pandas\\core\\indexing.py:1752\u001b[39m, in \u001b[36m_iLocIndexer._getitem_axis\u001b[39m\u001b[34m(self, key, axis)\u001b[39m\n\u001b[32m   1749\u001b[39m     \u001b[38;5;28;01mraise\u001b[39;00m \u001b[38;5;167;01mTypeError\u001b[39;00m(\u001b[33m\"\u001b[39m\u001b[33mCannot index by location index with a non-integer key\u001b[39m\u001b[33m\"\u001b[39m)\n\u001b[32m   1751\u001b[39m \u001b[38;5;66;03m# validate the location\u001b[39;00m\n\u001b[32m-> \u001b[39m\u001b[32m1752\u001b[39m \u001b[38;5;28;43mself\u001b[39;49m\u001b[43m.\u001b[49m\u001b[43m_validate_integer\u001b[49m\u001b[43m(\u001b[49m\u001b[43mkey\u001b[49m\u001b[43m,\u001b[49m\u001b[43m \u001b[49m\u001b[43maxis\u001b[49m\u001b[43m)\u001b[49m\n\u001b[32m   1754\u001b[39m \u001b[38;5;28;01mreturn\u001b[39;00m \u001b[38;5;28mself\u001b[39m.obj._ixs(key, axis=axis)\n",
      "\u001b[36mFile \u001b[39m\u001b[32mc:\\Users\\Darren Smith\\AppData\\Local\\Programs\\Python\\Python313\\Lib\\site-packages\\pandas\\core\\indexing.py:1685\u001b[39m, in \u001b[36m_iLocIndexer._validate_integer\u001b[39m\u001b[34m(self, key, axis)\u001b[39m\n\u001b[32m   1683\u001b[39m len_axis = \u001b[38;5;28mlen\u001b[39m(\u001b[38;5;28mself\u001b[39m.obj._get_axis(axis))\n\u001b[32m   1684\u001b[39m \u001b[38;5;28;01mif\u001b[39;00m key >= len_axis \u001b[38;5;129;01mor\u001b[39;00m key < -len_axis:\n\u001b[32m-> \u001b[39m\u001b[32m1685\u001b[39m     \u001b[38;5;28;01mraise\u001b[39;00m \u001b[38;5;167;01mIndexError\u001b[39;00m(\u001b[33m\"\u001b[39m\u001b[33msingle positional indexer is out-of-bounds\u001b[39m\u001b[33m\"\u001b[39m)\n",
      "\u001b[31mIndexError\u001b[39m: single positional indexer is out-of-bounds"
     ]
    }
   ],
   "source": [
    "#Example: Show top reviews for a recommended book\n",
    "\n",
    "book_id = works[works['original_title'] == 'king'].iloc[0]['work_id']  # Replace 'Dune' with any title\\n\",\n",
    "top_reviews = reviews[reviews['work_id'] == book_id].head(3)\n",
    "display(top_reviews[['review_text']])"
   ]
  },
  {
   "cell_type": "code",
   "execution_count": 2,
   "id": "25ba3148",
   "metadata": {},
   "outputs": [
    {
     "name": "stdout",
     "output_type": "stream",
     "text": [
      "Note: you may need to restart the kernel to use updated packages.\n"
     ]
    },
    {
     "name": "stderr",
     "output_type": "stream",
     "text": [
      "\n",
      "[notice] A new release of pip is available: 24.3.1 -> 25.1.1\n",
      "[notice] To update, run: python.exe -m pip install --upgrade pip\n"
     ]
    },
    {
     "data": {
      "application/vnd.plotly.v1+json": {
       "config": {
        "plotlyServerURL": "https://plot.ly"
       },
       "data": [
        {
         "bingroup": "x",
         "hovertemplate": "avg_rating=%{x}<br>count=%{y}<extra></extra>",
         "legendgroup": "",
         "marker": {
          "color": "#636efa",
          "pattern": {
           "shape": ""
          }
         },
         "name": "",
         "nbinsx": 30,
         "orientation": "v",
         "showlegend": false,
         "type": "histogram",
         "x": {
          "bdata": "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",
          "dtype": "f8"
         },
         "xaxis": "x",
         "yaxis": "y"
        }
       ],
       "layout": {
        "barmode": "relative",
        "legend": {
         "tracegroupgap": 0
        },
        "template": {
         "data": {
          "bar": [
           {
            "error_x": {
             "color": "#2a3f5f"
            },
            "error_y": {
             "color": "#2a3f5f"
            },
            "marker": {
             "line": {
              "color": "#E5ECF6",
              "width": 0.5
             },
             "pattern": {
              "fillmode": "overlay",
              "size": 10,
              "solidity": 0.2
             }
            },
            "type": "bar"
           }
          ],
          "barpolar": [
           {
            "marker": {
             "line": {
              "color": "#E5ECF6",
              "width": 0.5
             },
             "pattern": {
              "fillmode": "overlay",
              "size": 10,
              "solidity": 0.2
             }
            },
            "type": "barpolar"
           }
          ],
          "carpet": [
           {
            "aaxis": {
             "endlinecolor": "#2a3f5f",
             "gridcolor": "white",
             "linecolor": "white",
             "minorgridcolor": "white",
             "startlinecolor": "#2a3f5f"
            },
            "baxis": {
             "endlinecolor": "#2a3f5f",
             "gridcolor": "white",
             "linecolor": "white",
             "minorgridcolor": "white",
             "startlinecolor": "#2a3f5f"
            },
            "type": "carpet"
           }
          ],
          "choropleth": [
           {
            "colorbar": {
             "outlinewidth": 0,
             "ticks": ""
            },
            "type": "choropleth"
           }
          ],
          "contour": [
           {
            "colorbar": {
             "outlinewidth": 0,
             "ticks": ""
            },
            "colorscale": [
             [
              0,
              "#0d0887"
             ],
             [
              0.1111111111111111,
              "#46039f"
             ],
             [
              0.2222222222222222,
              "#7201a8"
             ],
             [
              0.3333333333333333,
              "#9c179e"
             ],
             [
              0.4444444444444444,
              "#bd3786"
             ],
             [
              0.5555555555555556,
              "#d8576b"
             ],
             [
              0.6666666666666666,
              "#ed7953"
             ],
             [
              0.7777777777777778,
              "#fb9f3a"
             ],
             [
              0.8888888888888888,
              "#fdca26"
             ],
             [
              1,
              "#f0f921"
             ]
            ],
            "type": "contour"
           }
          ],
          "contourcarpet": [
           {
            "colorbar": {
             "outlinewidth": 0,
             "ticks": ""
            },
            "type": "contourcarpet"
           }
          ],
          "heatmap": [
           {
            "colorbar": {
             "outlinewidth": 0,
             "ticks": ""
            },
            "colorscale": [
             [
              0,
              "#0d0887"
             ],
             [
              0.1111111111111111,
              "#46039f"
             ],
             [
              0.2222222222222222,
              "#7201a8"
             ],
             [
              0.3333333333333333,
              "#9c179e"
             ],
             [
              0.4444444444444444,
              "#bd3786"
             ],
             [
              0.5555555555555556,
              "#d8576b"
             ],
             [
              0.6666666666666666,
              "#ed7953"
             ],
             [
              0.7777777777777778,
              "#fb9f3a"
             ],
             [
              0.8888888888888888,
              "#fdca26"
             ],
             [
              1,
              "#f0f921"
             ]
            ],
            "type": "heatmap"
           }
          ],
          "histogram": [
           {
            "marker": {
             "pattern": {
              "fillmode": "overlay",
              "size": 10,
              "solidity": 0.2
             }
            },
            "type": "histogram"
           }
          ],
          "histogram2d": [
           {
            "colorbar": {
             "outlinewidth": 0,
             "ticks": ""
            },
            "colorscale": [
             [
              0,
              "#0d0887"
             ],
             [
              0.1111111111111111,
              "#46039f"
             ],
             [
              0.2222222222222222,
              "#7201a8"
             ],
             [
              0.3333333333333333,
              "#9c179e"
             ],
             [
              0.4444444444444444,
              "#bd3786"
             ],
             [
              0.5555555555555556,
              "#d8576b"
             ],
             [
              0.6666666666666666,
              "#ed7953"
             ],
             [
              0.7777777777777778,
              "#fb9f3a"
             ],
             [
              0.8888888888888888,
              "#fdca26"
             ],
             [
              1,
              "#f0f921"
             ]
            ],
            "type": "histogram2d"
           }
          ],
          "histogram2dcontour": [
           {
            "colorbar": {
             "outlinewidth": 0,
             "ticks": ""
            },
            "colorscale": [
             [
              0,
              "#0d0887"
             ],
             [
              0.1111111111111111,
              "#46039f"
             ],
             [
              0.2222222222222222,
              "#7201a8"
             ],
             [
              0.3333333333333333,
              "#9c179e"
             ],
             [
              0.4444444444444444,
              "#bd3786"
             ],
             [
              0.5555555555555556,
              "#d8576b"
             ],
             [
              0.6666666666666666,
              "#ed7953"
             ],
             [
              0.7777777777777778,
              "#fb9f3a"
             ],
             [
              0.8888888888888888,
              "#fdca26"
             ],
             [
              1,
              "#f0f921"
             ]
            ],
            "type": "histogram2dcontour"
           }
          ],
          "mesh3d": [
           {
            "colorbar": {
             "outlinewidth": 0,
             "ticks": ""
            },
            "type": "mesh3d"
           }
          ],
          "parcoords": [
           {
            "line": {
             "colorbar": {
              "outlinewidth": 0,
              "ticks": ""
             }
            },
            "type": "parcoords"
           }
          ],
          "pie": [
           {
            "automargin": true,
            "type": "pie"
           }
          ],
          "scatter": [
           {
            "fillpattern": {
             "fillmode": "overlay",
             "size": 10,
             "solidity": 0.2
            },
            "type": "scatter"
           }
          ],
          "scatter3d": [
           {
            "line": {
             "colorbar": {
              "outlinewidth": 0,
              "ticks": ""
             }
            },
            "marker": {
             "colorbar": {
              "outlinewidth": 0,
              "ticks": ""
             }
            },
            "type": "scatter3d"
           }
          ],
          "scattercarpet": [
           {
            "marker": {
             "colorbar": {
              "outlinewidth": 0,
              "ticks": ""
             }
            },
            "type": "scattercarpet"
           }
          ],
          "scattergeo": [
           {
            "marker": {
             "colorbar": {
              "outlinewidth": 0,
              "ticks": ""
             }
            },
            "type": "scattergeo"
           }
          ],
          "scattergl": [
           {
            "marker": {
             "colorbar": {
              "outlinewidth": 0,
              "ticks": ""
             }
            },
            "type": "scattergl"
           }
          ],
          "scattermap": [
           {
            "marker": {
             "colorbar": {
              "outlinewidth": 0,
              "ticks": ""
             }
            },
            "type": "scattermap"
           }
          ],
          "scattermapbox": [
           {
            "marker": {
             "colorbar": {
              "outlinewidth": 0,
              "ticks": ""
             }
            },
            "type": "scattermapbox"
           }
          ],
          "scatterpolar": [
           {
            "marker": {
             "colorbar": {
              "outlinewidth": 0,
              "ticks": ""
             }
            },
            "type": "scatterpolar"
           }
          ],
          "scatterpolargl": [
           {
            "marker": {
             "colorbar": {
              "outlinewidth": 0,
              "ticks": ""
             }
            },
            "type": "scatterpolargl"
           }
          ],
          "scatterternary": [
           {
            "marker": {
             "colorbar": {
              "outlinewidth": 0,
              "ticks": ""
             }
            },
            "type": "scatterternary"
           }
          ],
          "surface": [
           {
            "colorbar": {
             "outlinewidth": 0,
             "ticks": ""
            },
            "colorscale": [
             [
              0,
              "#0d0887"
             ],
             [
              0.1111111111111111,
              "#46039f"
             ],
             [
              0.2222222222222222,
              "#7201a8"
             ],
             [
              0.3333333333333333,
              "#9c179e"
             ],
             [
              0.4444444444444444,
              "#bd3786"
             ],
             [
              0.5555555555555556,
              "#d8576b"
             ],
             [
              0.6666666666666666,
              "#ed7953"
             ],
             [
              0.7777777777777778,
              "#fb9f3a"
             ],
             [
              0.8888888888888888,
              "#fdca26"
             ],
             [
              1,
              "#f0f921"
             ]
            ],
            "type": "surface"
           }
          ],
          "table": [
           {
            "cells": {
             "fill": {
              "color": "#EBF0F8"
             },
             "line": {
              "color": "white"
             }
            },
            "header": {
             "fill": {
              "color": "#C8D4E3"
             },
             "line": {
              "color": "white"
             }
            },
            "type": "table"
           }
          ]
         },
         "layout": {
          "annotationdefaults": {
           "arrowcolor": "#2a3f5f",
           "arrowhead": 0,
           "arrowwidth": 1
          },
          "autotypenumbers": "strict",
          "coloraxis": {
           "colorbar": {
            "outlinewidth": 0,
            "ticks": ""
           }
          },
          "colorscale": {
           "diverging": [
            [
             0,
             "#8e0152"
            ],
            [
             0.1,
             "#c51b7d"
            ],
            [
             0.2,
             "#de77ae"
            ],
            [
             0.3,
             "#f1b6da"
            ],
            [
             0.4,
             "#fde0ef"
            ],
            [
             0.5,
             "#f7f7f7"
            ],
            [
             0.6,
             "#e6f5d0"
            ],
            [
             0.7,
             "#b8e186"
            ],
            [
             0.8,
             "#7fbc41"
            ],
            [
             0.9,
             "#4d9221"
            ],
            [
             1,
             "#276419"
            ]
           ],
           "sequential": [
            [
             0,
             "#0d0887"
            ],
            [
             0.1111111111111111,
             "#46039f"
            ],
            [
             0.2222222222222222,
             "#7201a8"
            ],
            [
             0.3333333333333333,
             "#9c179e"
            ],
            [
             0.4444444444444444,
             "#bd3786"
            ],
            [
             0.5555555555555556,
             "#d8576b"
            ],
            [
             0.6666666666666666,
             "#ed7953"
            ],
            [
             0.7777777777777778,
             "#fb9f3a"
            ],
            [
             0.8888888888888888,
             "#fdca26"
            ],
            [
             1,
             "#f0f921"
            ]
           ],
           "sequentialminus": [
            [
             0,
             "#0d0887"
            ],
            [
             0.1111111111111111,
             "#46039f"
            ],
            [
             0.2222222222222222,
             "#7201a8"
            ],
            [
             0.3333333333333333,
             "#9c179e"
            ],
            [
             0.4444444444444444,
             "#bd3786"
            ],
            [
             0.5555555555555556,
             "#d8576b"
            ],
            [
             0.6666666666666666,
             "#ed7953"
            ],
            [
             0.7777777777777778,
             "#fb9f3a"
            ],
            [
             0.8888888888888888,
             "#fdca26"
            ],
            [
             1,
             "#f0f921"
            ]
           ]
          },
          "colorway": [
           "#636efa",
           "#EF553B",
           "#00cc96",
           "#ab63fa",
           "#FFA15A",
           "#19d3f3",
           "#FF6692",
           "#B6E880",
           "#FF97FF",
           "#FECB52"
          ],
          "font": {
           "color": "#2a3f5f"
          },
          "geo": {
           "bgcolor": "white",
           "lakecolor": "white",
           "landcolor": "#E5ECF6",
           "showlakes": true,
           "showland": true,
           "subunitcolor": "white"
          },
          "hoverlabel": {
           "align": "left"
          },
          "hovermode": "closest",
          "mapbox": {
           "style": "light"
          },
          "paper_bgcolor": "white",
          "plot_bgcolor": "#E5ECF6",
          "polar": {
           "angularaxis": {
            "gridcolor": "white",
            "linecolor": "white",
            "ticks": ""
           },
           "bgcolor": "#E5ECF6",
           "radialaxis": {
            "gridcolor": "white",
            "linecolor": "white",
            "ticks": ""
           }
          },
          "scene": {
           "xaxis": {
            "backgroundcolor": "#E5ECF6",
            "gridcolor": "white",
            "gridwidth": 2,
            "linecolor": "white",
            "showbackground": true,
            "ticks": "",
            "zerolinecolor": "white"
           },
           "yaxis": {
            "backgroundcolor": "#E5ECF6",
            "gridcolor": "white",
            "gridwidth": 2,
            "linecolor": "white",
            "showbackground": true,
            "ticks": "",
            "zerolinecolor": "white"
           },
           "zaxis": {
            "backgroundcolor": "#E5ECF6",
            "gridcolor": "white",
            "gridwidth": 2,
            "linecolor": "white",
            "showbackground": true,
            "ticks": "",
            "zerolinecolor": "white"
           }
          },
          "shapedefaults": {
           "line": {
            "color": "#2a3f5f"
           }
          },
          "ternary": {
           "aaxis": {
            "gridcolor": "white",
            "linecolor": "white",
            "ticks": ""
           },
           "baxis": {
            "gridcolor": "white",
            "linecolor": "white",
            "ticks": ""
           },
           "bgcolor": "#E5ECF6",
           "caxis": {
            "gridcolor": "white",
            "linecolor": "white",
            "ticks": ""
           }
          },
          "title": {
           "x": 0.05
          },
          "xaxis": {
           "automargin": true,
           "gridcolor": "white",
           "linecolor": "white",
           "ticks": "",
           "title": {
            "standoff": 15
           },
           "zerolinecolor": "white",
           "zerolinewidth": 2
          },
          "yaxis": {
           "automargin": true,
           "gridcolor": "white",
           "linecolor": "white",
           "ticks": "",
           "title": {
            "standoff": 15
           },
           "zerolinecolor": "white",
           "zerolinewidth": 2
          }
         }
        },
        "title": {
         "text": "Average Ratings Distribution"
        },
        "xaxis": {
         "anchor": "y",
         "domain": [
          0,
          1
         ],
         "title": {
          "text": "avg_rating"
         }
        },
        "yaxis": {
         "anchor": "x",
         "domain": [
          0,
          1
         ],
         "title": {
          "text": "count"
         }
        }
       }
      }
     },
     "metadata": {},
     "output_type": "display_data"
    }
   ],
   "source": [
    "%pip install --quiet \"nbformat>=4.2.0\"\n",
    "\n",
    "fig = px.histogram(works, x='avg_rating', nbins=30, title='Average Ratings Distribution')\n",
    "fig.show()\n",
    "\n"
   ]
  }
 ],
 "metadata": {
  "kernelspec": {
   "display_name": "Python (myenv)",
   "language": "python",
   "name": "myenv"
  },
  "language_info": {
   "codemirror_mode": {
    "name": "ipython",
    "version": 3
   },
   "file_extension": ".py",
   "mimetype": "text/x-python",
   "name": "python",
   "nbconvert_exporter": "python",
   "pygments_lexer": "ipython3",
   "version": "3.13.2"
  }
 },
 "nbformat": 4,
 "nbformat_minor": 5
}
